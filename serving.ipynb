{
 "cells": [
  {
   "cell_type": "code",
   "execution_count": 1,
   "metadata": {},
   "outputs": [],
   "source": [
    "import googleapiclient.discovery"
   ]
  },
  {
   "cell_type": "code",
   "execution_count": 2,
   "metadata": {},
   "outputs": [],
   "source": [
    "instances = [\"7317-GGVPB\", \"Male\", 0, \"Yes\", \"No\", 71, \"Yes\", \"Yes\", \"Fiber optic\", \"No\", \"Yes\", \"Yes\", \"Yes\", \"Yes\", \"Yes\", \"Two year\", \"Yes\", \"Credit card (automatic)\", 108.6, \"7690.9\"]"
   ]
  },
  {
   "cell_type": "code",
   "execution_count": 1,
   "metadata": {},
   "outputs": [],
   "source": [
    "instances='{\"CLIENTNUM\":{\"0\":\"779031033\"},\"Customer_Age\":{\"0\":46},\"Gender\":{\"0\":\"F\"},\"Dependent_count\":{\"0\":\"2\"},\"Education_Level\":{\"0\":\"Graduate\"},\"Marital_Status\":{\"0\":\"Married\"},\"Income_Category\":{\"0\":\"unknown\"},\"Card_Category\":{\"0\":\"Blue\"},\"Months_on_book\":{\"0\":22},\"Total_Relationship_Count\":{\"0\":6},\"Months_Inactive_12_mon\":{\"0\":1},\"Contacts_Count_12_mon\":{\"0\":3},\"Credit_Limit\":{\"0\":2305},\"Total_Revolving_Bal\":{\"0\":1627},\"Avg_Open_To_Buy\":{\"0\":678},\"Total_Amt_Chng_Q4_Q1\":{\"0\":0.747},\"Total_Trans_Amt\":{\"0\":1230},\"Total_Trans_Ct\":{\"0\":36},\"Total_Ct_Chng_Q4_Q1\":{\"0\":0.565},\"Avg_Utilization_Ratio\":{\"0\":0.706}}'\n"
   ]
  },
  {
   "cell_type": "code",
   "execution_count": 3,
   "metadata": {},
   "outputs": [],
   "source": [
    "service = googleapiclient.discovery.build('ml', 'v1')\n",
    "name = 'projects/{}/models/{}/versions/{}'.format(\"srivatsan-project\", \"ChurnPredictor\", \"V1\")"
   ]
  },
  {
   "cell_type": "code",
   "execution_count": 4,
   "metadata": {},
   "outputs": [
    {
     "name": "stdout",
     "output_type": "stream",
     "text": [
      "['No']\n"
     ]
    }
   ],
   "source": [
    "response = service.projects().predict(\n",
    "    name=name,\n",
    "    body={'instances': instances}\n",
    ").execute()\n",
    "\n",
    "if 'error' in response:\n",
    "    raise RuntimeError(response['error'])\n",
    "else:\n",
    "  print(response['predictions'])"
   ]
  },
  {
   "cell_type": "code",
   "execution_count": null,
   "metadata": {},
   "outputs": [],
   "source": [
    "#end"
   ]
  }
 ],
 "metadata": {
  "environment": {
   "name": "common-cpu.m59",
   "type": "gcloud",
   "uri": "gcr.io/deeplearning-platform-release/base-cpu:m59"
  },
  "kernelspec": {
   "display_name": "Python 3",
   "language": "python",
   "name": "python3"
  },
  "language_info": {
   "codemirror_mode": {
    "name": "ipython",
    "version": 3
   },
   "file_extension": ".py",
   "mimetype": "text/x-python",
   "name": "python",
   "nbconvert_exporter": "python",
   "pygments_lexer": "ipython3",
   "version": "3.8.5"
  }
 },
 "nbformat": 4,
 "nbformat_minor": 4
}
